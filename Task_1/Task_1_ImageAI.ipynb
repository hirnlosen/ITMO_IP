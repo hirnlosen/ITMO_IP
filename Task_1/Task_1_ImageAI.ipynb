{
 "cells": [
  {
   "cell_type": "markdown",
   "id": "91e60ad0",
   "metadata": {
    "id": "91e60ad0"
   },
   "source": [
    "# Task 1: Human recognition using ImageAI"
   ]
  },
  {
   "cell_type": "code",
   "execution_count": 1,
   "id": "3d54824f",
   "metadata": {},
   "outputs": [],
   "source": [
    "# Area for modules installation\n"
   ]
  },
  {
   "cell_type": "code",
   "execution_count": 75,
   "id": "0_dQXkEB1JbQ",
   "metadata": {
    "id": "0_dQXkEB1JbQ"
   },
   "outputs": [],
   "source": [
    "# Importing required modules and setting up environment\n",
    "import warnings\n",
    "warnings.filterwarnings('ignore')\n",
    "from imageai.Detection import ObjectDetection\n",
    "from IPython.display import Image\n",
    "import pandas as pd"
   ]
  },
  {
   "cell_type": "code",
   "execution_count": null,
   "id": "ebf45eea",
   "metadata": {},
   "outputs": [],
   "source": [
    "# Function for counting of number of found people on an image\n",
    "def human_counter(image_data):\n",
    "    counter = 0\n",
    "    for record in image_data:\n",
    "        if record['name'] == 'person':\n",
    "            counter+=1\n",
    "    return counter"
   ]
  },
  {
   "cell_type": "code",
   "execution_count": 54,
   "id": "3WyC3GB1CrTG",
   "metadata": {
    "id": "3WyC3GB1CrTG"
   },
   "outputs": [
    {
     "name": "stdout",
     "output_type": "stream",
     "text": [
      "['2.jpg', '7.jpg', '5.jpg', '4.jpg', '6.jpg', '10.jpg', '3.jpg', '1.jpg', '9.jpg', '8.jpg']\n"
     ]
    }
   ],
   "source": [
    "# Paths to images\n",
    "models_path = 'models/'\n",
    "image_path = 'resources/images/'\n",
    "image_processed_path = 'resources/images_processed/'\n",
    "\n",
    "# Getting list of available images\n",
    "images_available = os.listdir(image_path)\n",
    "print(images_available)"
   ]
  },
  {
   "cell_type": "code",
   "execution_count": 55,
   "id": "bceb9215",
   "metadata": {
    "id": "bceb9215"
   },
   "outputs": [],
   "source": [
    "# Setting up RetinaNet detector\n",
    "detector_RN = ObjectDetection()\n",
    "detector_RN.setModelTypeAsRetinaNet() \n",
    "detector_RN.setModelPath(models_path + 'resnet50_coco_best_v2.0.1.h5') \n",
    "detector_RN.loadModel()\n",
    "\n",
    "# Setting up YOLO detector\n",
    "detector_YOLO = ObjectDetection()\n",
    "detector_YOLO.setModelTypeAsYOLOv3() \n",
    "detector_YOLO.setModelPath(models_path + 'yolo.h5')  \n",
    "detector_YOLO.loadModel()"
   ]
  },
  {
   "cell_type": "markdown",
   "id": "KVmVzn0nUWC-",
   "metadata": {
    "id": "KVmVzn0nUWC-"
   },
   "source": [
    "# Objects detection threshold is 50"
   ]
  },
  {
   "cell_type": "code",
   "execution_count": 79,
   "id": "b0bb8ea0",
   "metadata": {},
   "outputs": [],
   "source": [
    "# Array of true number of people on every image\n",
    "people_true_number = [4, 5, 7, 4, 4, 5, 6, 4, 5, 6]"
   ]
  },
  {
   "cell_type": "code",
   "execution_count": 81,
   "id": "vq6IiswtTTcy",
   "metadata": {
    "colab": {
     "base_uri": "https://localhost:8080/"
    },
    "id": "vq6IiswtTTcy",
    "outputId": "e9c66727-7ee5-4584-f920-18f3d1ef4bfc",
    "scrolled": true
   },
   "outputs": [],
   "source": [
    "results_array = []\n",
    "#results_array.append(['image/model', 'RetinaNet50', 'RetinaNet80', 'YOLO50', 'YOLO80'])\n",
    "\n",
    "for image_number in range(1,10+1):\n",
    "    \n",
    "    # Initializing row array\n",
    "    temp_array = []\n",
    "\n",
    "    # Adding image number\n",
    "    temp_array.append(image_number)\n",
    "    \n",
    "    # Adding info about real number of people on the image\n",
    "    temp_array.append(people_true_number[image_number-1])\n",
    "\n",
    "    # Using RetinaNet with 50% cutoff\n",
    "    image_data = detector_RN.detectObjectsFromImage(\n",
    "    input_image = image_path + str(image_number) + '.jpg',\n",
    "    output_image_path = image_processed_path + str(image_number) + '_RN_Cutoff_50' + '.jpg',\n",
    "    minimum_percentage_probability = 50 # Cutoff treshold\n",
    "    )\n",
    "    temp_array.append(human_counter(image_data))\n",
    "    \n",
    "    # Using RetinaNet with 80% cutoff\n",
    "    image_data = detector_RN.detectObjectsFromImage(\n",
    "    input_image = image_path + str(image_number) + '.jpg',\n",
    "    output_image_path = image_processed_path + str(image_number) + '_RN_Cutoff_80' + '.jpg',\n",
    "    minimum_percentage_probability = 80 # Cutoff treshold\n",
    "    )\n",
    "    temp_array.append(human_counter(image_data))\n",
    "    \n",
    "    # Using YOLO with 50% cutoff\n",
    "    image_data = detector_RN.detectObjectsFromImage(\n",
    "    input_image = image_path + str(image_number) + '.jpg',\n",
    "    output_image_path = image_processed_path + str(image_number) + '_YOLO_Cutoff_50' + '.jpg',\n",
    "    minimum_percentage_probability = 50 # Cutoff treshold\n",
    "    )\n",
    "    temp_array.append(human_counter(image_data))\n",
    "    \n",
    "    # Using YOLO with 80% cutoff\n",
    "    image_data = detector_RN.detectObjectsFromImage(\n",
    "    input_image = image_path + str(image_number) + '.jpg',\n",
    "    output_image_path = image_processed_path + str(image_number) + '_YOLO_Cutoff_80' + '.jpg',\n",
    "    minimum_percentage_probability = 80 # Cutoff treshold\n",
    "    )\n",
    "    temp_array.append(human_counter(image_data))\n",
    "    \n",
    "    # Adding entire row into resulting array\n",
    "    results_array.append(temp_array)\n",
    "    #Image(filename = (image_path + str(image_number) + '.jpg'))"
   ]
  },
  {
   "cell_type": "code",
   "execution_count": 89,
   "id": "c682c828",
   "metadata": {},
   "outputs": [
    {
     "data": {
      "text/html": [
       "<div>\n",
       "<style scoped>\n",
       "    .dataframe tbody tr th:only-of-type {\n",
       "        vertical-align: middle;\n",
       "    }\n",
       "\n",
       "    .dataframe tbody tr th {\n",
       "        vertical-align: top;\n",
       "    }\n",
       "\n",
       "    .dataframe thead th {\n",
       "        text-align: right;\n",
       "    }\n",
       "</style>\n",
       "<table border=\"1\" class=\"dataframe\">\n",
       "  <thead>\n",
       "    <tr style=\"text-align: right;\">\n",
       "      <th></th>\n",
       "      <th>Image number</th>\n",
       "      <th>True value</th>\n",
       "      <th>RetinaNet50</th>\n",
       "      <th>RetinaNet80</th>\n",
       "      <th>YOLO50</th>\n",
       "      <th>YOLO80</th>\n",
       "    </tr>\n",
       "  </thead>\n",
       "  <tbody>\n",
       "    <tr>\n",
       "      <th>0</th>\n",
       "      <td>1</td>\n",
       "      <td>4</td>\n",
       "      <td>5</td>\n",
       "      <td>4</td>\n",
       "      <td>5</td>\n",
       "      <td>4</td>\n",
       "    </tr>\n",
       "    <tr>\n",
       "      <th>1</th>\n",
       "      <td>2</td>\n",
       "      <td>5</td>\n",
       "      <td>6</td>\n",
       "      <td>1</td>\n",
       "      <td>6</td>\n",
       "      <td>1</td>\n",
       "    </tr>\n",
       "    <tr>\n",
       "      <th>2</th>\n",
       "      <td>3</td>\n",
       "      <td>7</td>\n",
       "      <td>5</td>\n",
       "      <td>2</td>\n",
       "      <td>5</td>\n",
       "      <td>2</td>\n",
       "    </tr>\n",
       "    <tr>\n",
       "      <th>3</th>\n",
       "      <td>4</td>\n",
       "      <td>4</td>\n",
       "      <td>4</td>\n",
       "      <td>2</td>\n",
       "      <td>4</td>\n",
       "      <td>2</td>\n",
       "    </tr>\n",
       "    <tr>\n",
       "      <th>4</th>\n",
       "      <td>5</td>\n",
       "      <td>4</td>\n",
       "      <td>5</td>\n",
       "      <td>4</td>\n",
       "      <td>5</td>\n",
       "      <td>4</td>\n",
       "    </tr>\n",
       "    <tr>\n",
       "      <th>5</th>\n",
       "      <td>6</td>\n",
       "      <td>5</td>\n",
       "      <td>5</td>\n",
       "      <td>4</td>\n",
       "      <td>5</td>\n",
       "      <td>4</td>\n",
       "    </tr>\n",
       "    <tr>\n",
       "      <th>6</th>\n",
       "      <td>7</td>\n",
       "      <td>6</td>\n",
       "      <td>6</td>\n",
       "      <td>6</td>\n",
       "      <td>6</td>\n",
       "      <td>6</td>\n",
       "    </tr>\n",
       "    <tr>\n",
       "      <th>7</th>\n",
       "      <td>8</td>\n",
       "      <td>4</td>\n",
       "      <td>4</td>\n",
       "      <td>4</td>\n",
       "      <td>4</td>\n",
       "      <td>4</td>\n",
       "    </tr>\n",
       "    <tr>\n",
       "      <th>8</th>\n",
       "      <td>9</td>\n",
       "      <td>5</td>\n",
       "      <td>5</td>\n",
       "      <td>5</td>\n",
       "      <td>5</td>\n",
       "      <td>5</td>\n",
       "    </tr>\n",
       "    <tr>\n",
       "      <th>9</th>\n",
       "      <td>10</td>\n",
       "      <td>6</td>\n",
       "      <td>5</td>\n",
       "      <td>3</td>\n",
       "      <td>5</td>\n",
       "      <td>3</td>\n",
       "    </tr>\n",
       "  </tbody>\n",
       "</table>\n",
       "</div>"
      ],
      "text/plain": [
       "   Image number  True value  RetinaNet50  RetinaNet80  YOLO50  YOLO80\n",
       "0             1           4            5            4       5       4\n",
       "1             2           5            6            1       6       1\n",
       "2             3           7            5            2       5       2\n",
       "3             4           4            4            2       4       2\n",
       "4             5           4            5            4       5       4\n",
       "5             6           5            5            4       5       4\n",
       "6             7           6            6            6       6       6\n",
       "7             8           4            4            4       4       4\n",
       "8             9           5            5            5       5       5\n",
       "9            10           6            5            3       5       3"
      ]
     },
     "execution_count": 89,
     "metadata": {},
     "output_type": "execute_result"
    }
   ],
   "source": [
    "# Data visualization\n",
    "table_columns_names = ['Image number', 'True value', 'RetinaNet50', 'RetinaNet80', 'YOLO50', 'YOLO80']\n",
    "pd.DataFrame(results_array, columns = table_columns_names)"
   ]
  },
  {
   "cell_type": "code",
   "execution_count": 86,
   "id": "nkpzgn4tJqdg",
   "metadata": {
    "id": "nkpzgn4tJqdg"
   },
   "outputs": [
    {
     "name": "stdout",
     "output_type": "stream",
     "text": [
      "[[4, 0, 1, 0], [5, 0, 1, 0], [5, 0, 0, 2], [4, 0, 0, 0], [4, 0, 1, 0], [5, 0, 0, 0], [6, 0, 0, 0], [4, 0, 0, 0], [5, 0, 0, 0], [5, 0, 0, 1]]\n"
     ]
    }
   ],
   "source": [
    "model_results_array = []\n",
    "for i in range(0, 9+1):\n",
    "    # Getting current values\n",
    "    true_value = results_array[i][model_type]\n",
    "    predicted_value = results_array[i][model_type]\n",
    "    \n",
    "    # Distributing obtained results\n",
    "    if true_value >= predicted_value:\n",
    "        TP = predicted_value\n",
    "        TN = 0\n",
    "        FP = 0\n",
    "        FN = true_value - predicted_value\n",
    "    else:\n",
    "        TP = true_value\n",
    "        TN = 0\n",
    "        FP = predicted_value - true_value\n",
    "        FN = 0\n",
    "    \n",
    "    # Adding metrics to array\n",
    "    model_results_array.append([TP, TN, FP, FN])\n",
    "\n",
    "print(model_results_array)"
   ]
  },
  {
   "cell_type": "code",
   "execution_count": 90,
   "id": "83013bfa",
   "metadata": {},
   "outputs": [
    {
     "name": "stdout",
     "output_type": "stream",
     "text": [
      "{'RetinaNet50': [[5, 0, 0, 0], [6, 0, 0, 0], [5, 0, 0, 0], [4, 0, 0, 0], [5, 0, 0, 0], [5, 0, 0, 0], [6, 0, 0, 0], [4, 0, 0, 0], [5, 0, 0, 0], [5, 0, 0, 0]], 'RetinaNet80': [[4, 0, 0, 0], [1, 0, 0, 0], [2, 0, 0, 0], [2, 0, 0, 0], [4, 0, 0, 0], [4, 0, 0, 0], [6, 0, 0, 0], [4, 0, 0, 0], [5, 0, 0, 0], [3, 0, 0, 0]], 'YOLO50': [[5, 0, 0, 0], [6, 0, 0, 0], [5, 0, 0, 0], [4, 0, 0, 0], [5, 0, 0, 0], [5, 0, 0, 0], [6, 0, 0, 0], [4, 0, 0, 0], [5, 0, 0, 0], [5, 0, 0, 0]], 'YOLO80': [[4, 0, 0, 0], [1, 0, 0, 0], [2, 0, 0, 0], [2, 0, 0, 0], [4, 0, 0, 0], [4, 0, 0, 0], [6, 0, 0, 0], [4, 0, 0, 0], [5, 0, 0, 0], [3, 0, 0, 0]]}\n"
     ]
    }
   ],
   "source": [
    "# Creating dictionary for model's result storage\n",
    "all_results = {}\n",
    "\n",
    "for model_type in range(2, 5+1):\n",
    "    \n",
    "    # Arranging array for model resutls\n",
    "    model_results_array = []\n",
    "    \n",
    "    # Iterating through rows\n",
    "    for i in range(0, 9+1):\n",
    "        \n",
    "        # Getting current values\n",
    "        true_value = results_array[i][model_type]\n",
    "        predicted_value = results_array[i][model_type]\n",
    "    \n",
    "        # Distributing obtained results\n",
    "        if true_value >= predicted_value:\n",
    "            TP = predicted_value\n",
    "            TN = 0\n",
    "            FP = 0\n",
    "            FN = true_value - predicted_value\n",
    "        else:\n",
    "            TP = true_value\n",
    "            TN = 0\n",
    "            FP = predicted_value - true_value\n",
    "            FN = 0\n",
    "    \n",
    "        # Adding metrics to array\n",
    "        model_results_array.append([TP, TN, FP, FN])\n",
    "        \n",
    "    all_results.update({table_columns_names[model_type]: model_results_array})\n",
    "    \n",
    "print(all_results)"
   ]
  }
 ],
 "metadata": {
  "colab": {
   "collapsed_sections": [],
   "name": "Task_1_ImageAI.ipynb",
   "provenance": []
  },
  "kernelspec": {
   "display_name": "Python 3 (ipykernel)",
   "language": "python",
   "name": "python3"
  },
  "language_info": {
   "codemirror_mode": {
    "name": "ipython",
    "version": 3
   },
   "file_extension": ".py",
   "mimetype": "text/x-python",
   "name": "python",
   "nbconvert_exporter": "python",
   "pygments_lexer": "ipython3",
   "version": "3.9.7"
  }
 },
 "nbformat": 4,
 "nbformat_minor": 5
}
